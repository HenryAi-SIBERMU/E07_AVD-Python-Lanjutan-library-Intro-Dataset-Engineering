{
 "cells": [
  {
   "cell_type": "markdown",
   "metadata": {},
   "source": []
  },
  {
   "cell_type": "markdown",
   "metadata": {},
   "source": [
    "## 1.TIPE DATA\n",
    "Dalam setiap nilai di variabel, terdapat sebuah tipe data tertentu. Pada python, terdapat beberapa tipe data:\n",
    "\n",
    "- Numbers\n",
    "- Strings\n",
    "- Boolean\n",
    "- List\n",
    "- Tuple\n",
    "- Set\n",
    "- Dictionary"
   ]
  },
  {
   "cell_type": "markdown",
   "metadata": {},
   "source": [
    "### a. Numbers\n",
    "- Integer : Angka tanpa koma\n",
    "- Float : Angka dengan Koma"
   ]
  },
  {
   "cell_type": "code",
   "execution_count": 3,
   "metadata": {},
   "outputs": [
    {
     "name": "stdout",
     "output_type": "stream",
     "text": [
      "5 mempunyai tipe <class 'int'>\n",
      "5.0 mempunyai tipe <class 'float'>\n"
     ]
    }
   ],
   "source": [
    "a = 5\n",
    "print(a, \"mempunyai tipe\", type(a))\n",
    "\n",
    "a = 5.0\n",
    "print(a, \"mempunyai tipe\", type(a))"
   ]
  },
  {
   "cell_type": "markdown",
   "metadata": {},
   "source": [
    "### b. Boolean\n",
    "Benar atau Salah?"
   ]
  },
  {
   "cell_type": "code",
   "execution_count": 4,
   "metadata": {},
   "outputs": [
    {
     "name": "stdout",
     "output_type": "stream",
     "text": [
      "False mempunyai tipe <class 'bool'>\n",
      "True mempunyai tipe <class 'bool'>\n"
     ]
    }
   ],
   "source": [
    "a = 5>6\n",
    "print(a, \"mempunyai tipe\", type(a))\n",
    "\n",
    "a = 6>5\n",
    "print(a, \"mempunyai tipe\", type(a))"
   ]
  },
  {
   "cell_type": "markdown",
   "metadata": {},
   "source": [
    "### c. String\n",
    "Kumpulan karakter"
   ]
  },
  {
   "cell_type": "code",
   "execution_count": 1,
   "metadata": {},
   "outputs": [
    {
     "name": "stdout",
     "output_type": "stream",
     "text": [
      "('Ini adalah sebuah string', 'mempunyai tipe', <type 'str'>)\n"
     ]
    }
   ],
   "source": [
    "a = \"Ini adalah sebuah string\"\n",
    "print(a, \"mempunyai tipe\", type(a))"
   ]
  },
  {
   "cell_type": "markdown",
   "metadata": {},
   "source": [
    "### d. List \n",
    "Tipe data yang digunakan untuk menyimpan beberapa nilai dalam satu variabe"
   ]
  },
  {
   "cell_type": "code",
   "execution_count": 5,
   "metadata": {},
   "outputs": [
    {
     "name": "stdout",
     "output_type": "stream",
     "text": [
      "[30, 40, 50, 60, 70, 80, 90]\n",
      "['Ani', 'Budi', 'Catra', 'Desi']\n",
      "['Big', 2.5, 90, 'Data']\n"
     ]
    }
   ],
   "source": [
    "# Deklarasi List\n",
    "\n",
    "#Dapat Berisi Angka\n",
    "nilai = [30,40,50,60,70,80,90]\n",
    "print(nilai)\n",
    "\n",
    "#Dapat berisi String\n",
    "peserta = ['Ani','Budi','Catra','Desi']\n",
    "print(peserta)\n",
    "\n",
    "#Dapat juga berisi campuran tipe data\n",
    "campuran = ['Big',2.5, 90, 'Data']\n",
    "print(campuran)"
   ]
  },
  {
   "cell_type": "markdown",
   "metadata": {},
   "source": [
    "### e. Tuples\n",
    "Tuple merupakan tipe data yang mirip dengan list, namun berifat immutable atau tidak dapat ditambah dan diubah nilainya. Keuntungan dari penggunaan tuple adalah, pengaksesan datanya lebih cepat."
   ]
  },
  {
   "cell_type": "code",
   "execution_count": null,
   "metadata": {},
   "outputs": [],
   "source": [
    "# Deklarasi Tuple\n",
    "bulan = (\"Januari\",\"Februari\",\"Maret\",\"April\",\"Mei\",\"Juni\",\"Juli\",\"Agustus\",\"September\",\"Oktober\",\"November\",\"Desember\")\n",
    "print(bulan)"
   ]
  },
  {
   "cell_type": "markdown",
   "metadata": {},
   "source": [
    "### c. Dictionary\n",
    "Dictionary dalam Python berbeda dengan List ataupun Tuple. Karena setiap urutanya berisi key dan value. Setiap key dipisahkan dari value-nya oleh titik dua (:), item dipisahkan oleh koma, dan semuanya tertutup dalam kurung kurawal. Dictionary kosong tanpa barang ditulis hanya dengan dua kurung kurawal, seperti ini: {}\n"
   ]
  },
  {
   "cell_type": "code",
   "execution_count": null,
   "metadata": {},
   "outputs": [],
   "source": [
    "siswa = {'Nama': 'Budi', 'Umur': 7, 'JenisKelamin': 'Laki-Laki'}\n",
    "siswa2 = {'Nama': 'Ani', 'Umur': 8, 'JenisKelamin': 'Perempuan'}\n",
    "print(siswa)\n",
    "print(siswa['Nama'])\n",
    "print(siswa['Umur'])\n",
    "print(siswa['JenisKelamin'])\n",
    "\n",
    "list_siswa = []\n",
    "list_siswa.append(siswa)\n",
    "list_siswa.append(siswa2)\n",
    "print(list_siswa[0])"
   ]
  },
  {
   "cell_type": "markdown",
   "metadata": {},
   "source": [
    "## Operator"
   ]
  },
  {
   "cell_type": "markdown",
   "metadata": {},
   "source": [
    "### a. Operator Aritmetika\n",
    "\n",
    "| Operator | Arti                                                                                          | Contoh                  |\n",
    "|----------|--------------------------------------------------------------------------------------------------|--------------------------|\n",
    "| +        | Penambahan                                                                   | x + y                 |\n",
    "| -        | Pengurangan                                              | x - y                  |\n",
    "| *        | Perkalian                                                                            | x * y                    |\n",
    "| /        | Pembagian                                 | x / y                    |\n",
    "| %        | Modulo - Sisa Pembagian                                 | x % y (sisa pembagian of x/y) |\n",
    "| //       | Pembagian dan dibulatkan ke bawah | x // y                   |\n",
    "| **       | Eksponen - Pangkat                                             | x**y (x pangkat y)  |"
   ]
  },
  {
   "cell_type": "code",
   "execution_count": 2,
   "metadata": {},
   "outputs": [
    {
     "name": "stdout",
     "output_type": "stream",
     "text": [
      "81\n"
     ]
    }
   ],
   "source": [
    "x = 5\n",
    "y = 4\n",
    "\n",
    "print((x+y)*(x+y))\n"
   ]
  },
  {
   "cell_type": "markdown",
   "metadata": {},
   "source": [
    "### b. Operator Assignment\n",
    "Pemberian Nilai, Updating Nilai"
   ]
  },
  {
   "cell_type": "code",
   "execution_count": 4,
   "metadata": {},
   "outputs": [
    {
     "name": "stdout",
     "output_type": "stream",
     "text": [
      "11\n",
      "55\n",
      "5\n"
     ]
    }
   ],
   "source": [
    "a = 5\n",
    "b = 2\n",
    "a = a + 6\n",
    "print(a)\n",
    "a = a * 5\n",
    "print(a)\n",
    "a = b + 3\n",
    "print(a)"
   ]
  },
  {
   "cell_type": "markdown",
   "metadata": {},
   "source": [
    "### c. Operator Perbandingan\n",
    "| Operator | Meaning                 | Example |\n",
    "|----------|-------------------------|---------|\n",
    "| >        | Lebih Dari              | x > y   |\n",
    "| <        | Kurang Dari             | x < y   |\n",
    "| ==       | Sama Dengan             | x == y  |\n",
    "| !=       | Tidak Sam Dengan        | x != y  |\n",
    "| >=       | Lebih dari sama dengan  | x >= y  |\n",
    "| <=       | Kurang dari sama dengan | x <= y  |"
   ]
  },
  {
   "cell_type": "code",
   "execution_count": null,
   "metadata": {},
   "outputs": [],
   "source": [
    "x = 10\n",
    "y = 12\n",
    "\n",
    "print('x > y  is',x>y)\n",
    "\n",
    "print('x < y  is',x<y)\n",
    "\n",
    "print('x == y is',x==y)\n",
    "\n",
    "print('x != y is',x!=y)\n",
    "\n",
    "print('x >= y is',x>=y)\n",
    "\n",
    "print('x <= y is',x<=y)"
   ]
  },
  {
   "cell_type": "markdown",
   "metadata": {},
   "source": [
    "# 2. Indexing & Slicing"
   ]
  },
  {
   "cell_type": "markdown",
   "metadata": {},
   "source": [
    "# 3. Method"
   ]
  },
  {
   "cell_type": "markdown",
   "metadata": {},
   "source": [
    "# 4. Iterasi Loop (For)"
   ]
  },
  {
   "cell_type": "markdown",
   "metadata": {},
   "source": [
    "# 5. Function"
   ]
  },
  {
   "cell_type": "markdown",
   "metadata": {},
   "source": [
    "# 6. Conditional Statement  / If Statement\n",
    "Dalam pembuatan program, seringkali kita memiliki kondisi, jika..maka, contohnya: jika nilai hasil ujian > 90, maka calon peserta digital talent berhak mengikuti program beasiswa. Kondisi seperti ini dapat digambarkan dengan Flowchart seperti dibawah ini:"
   ]
  },
  {
   "cell_type": "markdown",
   "metadata": {},
   "source": [
    "![alt text](https://cdn.programiz.com/sites/tutorial2program/files/Python_if_statement.jpg \"If Statement\")\n"
   ]
  },
  {
   "cell_type": "markdown",
   "metadata": {},
   "source": [
    "Berikut adalah sintaks dari kode program kondisional / percabangan.\n",
    "Perhatikan Indentasi yang ada pada sintaks tersebut."
   ]
  },
  {
   "cell_type": "code",
   "execution_count": 17,
   "metadata": {},
   "outputs": [
    {
     "name": "stdout",
     "output_type": "stream",
     "text": [
      "Selamat\n",
      "Program Selesai\n"
     ]
    }
   ],
   "source": [
    "nilai = 8 # Coba dirubah menjadi 80\n",
    "if nilai>90:\n",
    "    print(\"Lulus\")\n",
    "    print(\"Selamat\")\n",
    "    \n",
    "print(\"Program Selesai\")"
   ]
  },
  {
   "cell_type": "markdown",
   "metadata": {},
   "source": [
    "Dalam bahasa pemrograman Python, Indentasi sangatlah penting untuk menentukan blok kode sebuah program.\n",
    "\n",
    "Selanjutnya, terdapat bentuk yang sedikit lebih kompleks, yaitu dengan menggunakan else:"
   ]
  },
  {
   "cell_type": "markdown",
   "metadata": {},
   "source": [
    "![alt text](https://cdn.programiz.com/sites/tutorial2program/files/Python_if_else_statement.jpg \"If Else Statement\")"
   ]
  },
  {
   "cell_type": "code",
   "execution_count": null,
   "metadata": {},
   "outputs": [],
   "source": [
    "nilai = 80 \n",
    "if nilai>90:\n",
    "    print(\"Lulus\")\n",
    "    print(\"Selamat\")\n",
    "else:\n",
    "    print(\"Maaf Anda Belum Berhasil\")\n",
    "    \n",
    "print(\"Program Selesai\")"
   ]
  },
  {
   "cell_type": "markdown",
   "metadata": {},
   "source": [
    "Jika terdapat lebih dari satu kondisi dapat menggunakan elif (else if):"
   ]
  },
  {
   "cell_type": "markdown",
   "metadata": {},
   "source": [
    "![alt text](https://cdn.programiz.com/sites/tutorial2program/files/Python_if_elif_else_statement.jpg \"If Else If Statement\")\n"
   ]
  },
  {
   "cell_type": "code",
   "execution_count": null,
   "metadata": {},
   "outputs": [],
   "source": [
    "nilai = 85 \n",
    "if nilai>=90:\n",
    "    print(\"Lulus\")\n",
    "    print(\"Selamat\")\n",
    "elif nilai>80:\n",
    "    print(\"Anda masuk ke waiting list\")\n",
    "else:\n",
    "    print(\"Maaf Anda Belum Berhasil\")\n",
    "    \n",
    "print(\"Program Selesai\")"
   ]
  },
  {
   "cell_type": "markdown",
   "metadata": {},
   "source": [
    "Percabangan juga bisa disarangkan pada percabangan, contoh:"
   ]
  },
  {
   "cell_type": "code",
   "execution_count": null,
   "metadata": {},
   "outputs": [],
   "source": [
    "nilai = 95\n",
    "umur = 10\n",
    "\n",
    "if nilai>90:\n",
    "    if umur > 17:\n",
    "        print(\"Selamat Anda Berhak Mengikuti Program Beasiswa\")\n",
    "    else:\n",
    "        print(\"Maaf, Anda belum berhak mengikuti program beasiswa\")\n",
    "else:\n",
    "    print(\"Maaf Anda Belum Berhasil\")\n",
    "    \n",
    "print(\"Program Selesai\")"
   ]
  }
 ],
 "metadata": {
  "kernelspec": {
   "display_name": "Python 3 (ipykernel)",
   "language": "python",
   "name": "python3"
  },
  "language_info": {
   "codemirror_mode": {
    "name": "ipython",
    "version": 3
   },
   "file_extension": ".py",
   "mimetype": "text/x-python",
   "name": "python",
   "nbconvert_exporter": "python",
   "pygments_lexer": "ipython3",
   "version": "3.9.13"
  }
 },
 "nbformat": 4,
 "nbformat_minor": 2
}
